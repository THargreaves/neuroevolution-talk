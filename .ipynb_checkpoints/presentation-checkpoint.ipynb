{
 "cells": [
  {
   "cell_type": "markdown",
   "metadata": {
    "slideshow": {
     "slide_type": "slide"
    }
   },
   "source": [
    "# When Biology Meets Data Science—An Introduction to Neuroevolution\n",
    "\n",
    "_Tim Hargreaves_\n",
    "\n",
    "_PyData Manchester_\n",
    "\n",
    "_23rd June 2020_"
   ]
  },
  {
   "cell_type": "markdown",
   "metadata": {
    "slideshow": {
     "slide_type": "slide"
    }
   },
   "source": [
    "# Introduction"
   ]
  },
  {
   "cell_type": "markdown",
   "metadata": {
    "slideshow": {
     "slide_type": "slide"
    }
   },
   "source": [
    "## About Me\n",
    "\n",
    "- MathStat Undergraduate at University of Warwick\n",
    "- Data Scientist at AstraZeneca\n",
    "- Computational Statistics and Machine Learning"
   ]
  },
  {
   "cell_type": "markdown",
   "metadata": {
    "slideshow": {
     "slide_type": "slide"
    }
   },
   "source": [
    "## Talk Objectives\n",
    "\n",
    "### Structure\n",
    "\n",
    "1. Introduction to evolutionary algorithms\n",
    "2. Recap of neural networks\n",
    "3. Application of EAs to neural networks"
   ]
  },
  {
   "cell_type": "markdown",
   "metadata": {
    "slideshow": {
     "slide_type": "fragment"
    }
   },
   "source": [
    "### Format\n",
    "\n",
    "- High-level with links to further reading\n",
    "- Source code/presentation will be linked at the end\n",
    "- Chance for Q&As after talk"
   ]
  },
  {
   "cell_type": "markdown",
   "metadata": {
    "slideshow": {
     "slide_type": "slide"
    }
   },
   "source": [
    "## Motivation\n",
    "\n",
    "### Conventional Methods for Designing/Tuning Neural Networks\n",
    "\n",
    "|           Method          |                          Flaws                         |\n",
    "|:-------------------------:|:------------------------------------------------------:|\n",
    "|     Copy someone else     |         Requires trust/might not be appropriate        |\n",
    "|       Use intuition       |       No reproducibility; requires said intuition      |\n",
    "| Brute force/random search |                Computational complexity                |\n",
    "|   Gradient-based methods  |  Lack of convexity; non-differentiable hyperparameters |\n",
    "|      Bayesian methods     | Deciding priors/measuring convergence can be difficult |"
   ]
  },
  {
   "cell_type": "markdown",
   "metadata": {
    "slideshow": {
     "slide_type": "fragment"
    }
   },
   "source": [
    "### A Contrasting Approach\n",
    "\n",
    "- Evolution offers a solution\n",
    "- Can we implement something similar?"
   ]
  },
  {
   "cell_type": "markdown",
   "metadata": {
    "slideshow": {
     "slide_type": "slide"
    }
   },
   "source": [
    "# Evolutionary Algorithms"
   ]
  },
  {
   "cell_type": "markdown",
   "metadata": {
    "slideshow": {
     "slide_type": "slide"
    }
   },
   "source": [
    "## Evolution Recap\n",
    "\n",
    "- An organism is differentiated by its unique genetic code\n",
    "- This genetic code will express itself in physical attributes\n",
    "- These attributes impact the likelihood of survival\n",
    "- Surviving organisms are more likely to reproduce\n",
    "- Reproduction allows an organism to partially pass on their genes\n",
    "- Mutations can occur at any time to change an organism's genes"
   ]
  },
  {
   "cell_type": "markdown",
   "metadata": {
    "slideshow": {
     "slide_type": "slide"
    }
   },
   "source": [
    "## Components of Evolution\n",
    "\n",
    "- Genes\n",
    "- Fitness/Selection\n",
    "- Cross-over/Reproduction\n",
    "- Mutation"
   ]
  },
  {
   "cell_type": "markdown",
   "metadata": {
    "slideshow": {
     "slide_type": "subslide"
    }
   },
   "source": [
    "### Genes\n",
    "\n",
    "- Competing definitions; Dawkins' is intuitive and flexible\n",
    "- The smallest unit of selection\n",
    "- Capable of lasting a number of generations and becoming distributed across the population\n",
    "- Contributes to the physical attributes of the organism"
   ]
  },
  {
   "cell_type": "markdown",
   "metadata": {
    "slideshow": {
     "slide_type": "subslide"
    }
   },
   "source": [
    "### Fitness/Selection\n",
    "\n",
    "- Each organism has an abstract value of fitness\n",
    "- This relates to its chance of survival/reproduction\n",
    "- Genes that encourage fitness are more likely to disseminate"
   ]
  },
  {
   "cell_type": "markdown",
   "metadata": {
    "slideshow": {
     "slide_type": "subslide"
    }
   },
   "source": [
    "### Cross-over/Reproduction"
   ]
  },
  {
   "cell_type": "markdown",
   "metadata": {},
   "source": [
    "_NB: We will only consider sexual reproduction_\n",
    "\n",
    "- Two organisms can reproduce to have children\n",
    "- Each child will take half their genetic material from each parent\n",
    "- This loosely corresponds to 'mixing' the genes of the parents"
   ]
  },
  {
   "cell_type": "markdown",
   "metadata": {
    "slideshow": {
     "slide_type": "subslide"
    }
   },
   "source": [
    "## Mutation\n",
    "\n",
    "- Genes can mutate to change their expression\n",
    "- This can occur at any time but is more likely at birth"
   ]
  },
  {
   "cell_type": "markdown",
   "metadata": {
    "slideshow": {
     "slide_type": "slide"
    }
   },
   "source": [
    "## Bringing it Together\n",
    "\n",
    "_Diagram_"
   ]
  }
 ],
 "metadata": {
  "kernelspec": {
   "display_name": "TensorFlow (GPU)",
   "language": "python",
   "name": "tf-gpu"
  },
  "language_info": {
   "codemirror_mode": {
    "name": "ipython",
    "version": 3
   },
   "file_extension": ".py",
   "mimetype": "text/x-python",
   "name": "python",
   "nbconvert_exporter": "python",
   "pygments_lexer": "ipython3",
   "version": "3.8.3"
  }
 },
 "nbformat": 4,
 "nbformat_minor": 4
}
